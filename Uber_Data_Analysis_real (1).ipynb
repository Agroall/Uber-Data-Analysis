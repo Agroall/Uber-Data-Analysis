{
  "cells": [
    {
      "cell_type": "markdown",
      "metadata": {
        "id": "ixdXYbZijn9E"
      },
      "source": [
        "# Importing all necessary packages"
      ]
    },
    {
      "cell_type": "code",
      "execution_count": null,
      "metadata": {
        "colab": {
          "base_uri": "https://localhost:8080/"
        },
        "id": "ZBneAnrsl9sY",
        "outputId": "f4cf6f19-816d-4bbb-8e68-fda85aa87fba"
      },
      "outputs": [
        {
          "output_type": "stream",
          "name": "stdout",
          "text": [
            "Collecting opendatasets\n",
            "  Downloading opendatasets-0.1.22-py3-none-any.whl (15 kB)\n",
            "Requirement already satisfied: tqdm in /usr/local/lib/python3.10/dist-packages (from opendatasets) (4.65.0)\n",
            "Requirement already satisfied: kaggle in /usr/local/lib/python3.10/dist-packages (from opendatasets) (1.5.16)\n",
            "Requirement already satisfied: click in /usr/local/lib/python3.10/dist-packages (from opendatasets) (8.1.6)\n",
            "Requirement already satisfied: six>=1.10 in /usr/local/lib/python3.10/dist-packages (from kaggle->opendatasets) (1.16.0)\n",
            "Requirement already satisfied: certifi in /usr/local/lib/python3.10/dist-packages (from kaggle->opendatasets) (2023.7.22)\n",
            "Requirement already satisfied: python-dateutil in /usr/local/lib/python3.10/dist-packages (from kaggle->opendatasets) (2.8.2)\n",
            "Requirement already satisfied: requests in /usr/local/lib/python3.10/dist-packages (from kaggle->opendatasets) (2.27.1)\n",
            "Requirement already satisfied: python-slugify in /usr/local/lib/python3.10/dist-packages (from kaggle->opendatasets) (8.0.1)\n",
            "Requirement already satisfied: urllib3 in /usr/local/lib/python3.10/dist-packages (from kaggle->opendatasets) (1.26.16)\n",
            "Requirement already satisfied: bleach in /usr/local/lib/python3.10/dist-packages (from kaggle->opendatasets) (6.0.0)\n",
            "Requirement already satisfied: webencodings in /usr/local/lib/python3.10/dist-packages (from bleach->kaggle->opendatasets) (0.5.1)\n",
            "Requirement already satisfied: text-unidecode>=1.3 in /usr/local/lib/python3.10/dist-packages (from python-slugify->kaggle->opendatasets) (1.3)\n",
            "Requirement already satisfied: charset-normalizer~=2.0.0 in /usr/local/lib/python3.10/dist-packages (from requests->kaggle->opendatasets) (2.0.12)\n",
            "Requirement already satisfied: idna<4,>=2.5 in /usr/local/lib/python3.10/dist-packages (from requests->kaggle->opendatasets) (3.4)\n",
            "Installing collected packages: opendatasets\n",
            "Successfully installed opendatasets-0.1.22\n"
          ]
        }
      ],
      "source": [
        "!pip install opendatasets"
      ]
    },
    {
      "cell_type": "code",
      "execution_count": null,
      "metadata": {
        "id": "i97JxVqYjJnO"
      },
      "outputs": [],
      "source": [
        "# Data Processing\n",
        "import pandas as pd\n",
        "pd.set_option('display.max_columns',None) # Setting DataFrame display options\n",
        "import numpy as np\n",
        "from datetime import datetime\n",
        "\n",
        "# Data Visualization\n",
        "import matplotlib.pyplot as plt\n",
        "import seaborn as sns\n",
        "sns.set_theme(style=\"white\", palette=None) # Setting visualization style\n",
        "\n",
        "# Geodata Visualization\n",
        "import shapely\n",
        "import folium\n",
        "\n",
        "# Data Extraction\n",
        "import os\n",
        "import opendatasets as od\n",
        "\n",
        "# Statistical Analysis\n",
        "from scipy.stats import chi2_contingency"
      ]
    },
    {
      "cell_type": "markdown",
      "metadata": {
        "id": "Vcmk16TRpI8P"
      },
      "source": [
        "# Previewing dataset"
      ]
    },
    {
      "cell_type": "markdown",
      "metadata": {
        "id": "V8X4MH_QmP7o"
      },
      "source": [
        "## Connecting to my kaggle account and downloading relevant dataset"
      ]
    },
    {
      "cell_type": "code",
      "execution_count": null,
      "metadata": {
        "id": "pXJk4rJ4ybDU"
      },
      "outputs": [],
      "source": [
        "od.download('https://www.kaggle.com/datasets/brllrb/uber-and-lyft-dataset-boston-ma')"
      ]
    },
    {
      "cell_type": "markdown",
      "metadata": {
        "id": "JPQYYlqpMZB7"
      },
      "source": [
        "## Previewing Dataset"
      ]
    },
    {
      "cell_type": "code",
      "execution_count": null,
      "metadata": {
        "id": "-MwsUn3ApIHY"
      },
      "outputs": [],
      "source": [
        "# os.listdir('./uber-and-lyft-dataset-boston-ma')\n",
        "rides = pd.read_csv('uber-and-lyft-dataset-boston-ma/rideshare_kaggle.csv')\n",
        "rides.info()"
      ]
    },
    {
      "cell_type": "code",
      "execution_count": null,
      "metadata": {
        "id": "HSkWIZAlxTEp"
      },
      "outputs": [],
      "source": [
        "print(rides.shape)\n",
        "rides.head()"
      ]
    },
    {
      "cell_type": "markdown",
      "metadata": {
        "id": "QXbAnNb8MikS"
      },
      "source": [
        "**Important Notes.**\n",
        "                                                                                \n",
        "\n",
        "1.   Multiple Sources of Time data (timestanp & datetime) Consider the timezone column if you're using datetime. (Resolved)\n",
        "2.   Investigate Temperature and Apparent Temperature. (Resolved)\n",
        "3.   Not all columns seems useful, drop irrelevant columns as metadata. (Resolved)"
      ]
    },
    {
      "cell_type": "markdown",
      "metadata": {
        "id": "K-HnfQiWsyz2"
      },
      "source": [
        "# Cleaning dataset"
      ]
    },
    {
      "cell_type": "markdown",
      "metadata": {
        "id": "NIL2tEeDwdG0"
      },
      "source": [
        "## Subsetting relevant columns"
      ]
    },
    {
      "cell_type": "code",
      "execution_count": null,
      "metadata": {
        "id": "fyAchMd0t4Ux"
      },
      "outputs": [],
      "source": [
        "relevant_columns = ['datetime', 'timezone', 'hour', 'month', 'price', 'distance','product_id', 'latitude', 'longitude', 'temperature', 'apparentTemperature',\n",
        "                    'cab_type','source','destination','surge_multiplier','short_summary','long_summary','icon']\n",
        "rides_analysis = rides[relevant_columns].copy()\n",
        "rides_analysis=rides_analysis[rides_analysis['cab_type']=='Uber']"
      ]
    },
    {
      "cell_type": "code",
      "execution_count": null,
      "metadata": {
        "id": "aDBIZAxCB2ov"
      },
      "outputs": [],
      "source": [
        "rides_analysis.shape"
      ]
    },
    {
      "cell_type": "markdown",
      "metadata": {
        "id": "cKE9OKgZwohs"
      },
      "source": [
        "## Checking for missing data"
      ]
    },
    {
      "cell_type": "code",
      "execution_count": null,
      "metadata": {
        "id": "9ae57WwawnlJ"
      },
      "outputs": [],
      "source": [
        "rides_analysis.isna().sum()"
      ]
    },
    {
      "cell_type": "markdown",
      "metadata": {
        "id": "vuKfVVdv02qt"
      },
      "source": [
        "Price is the target feature, all observations without price should be dropped.                                    "
      ]
    },
    {
      "cell_type": "code",
      "execution_count": null,
      "metadata": {
        "id": "FFMzODZF03BD"
      },
      "outputs": [],
      "source": [
        "rides_analysis.dropna(inplace=True)\n",
        "rides_analysis.isna().sum()"
      ]
    },
    {
      "cell_type": "markdown",
      "metadata": {
        "id": "rBbMIi4fuOij"
      },
      "source": [
        "## Confirm Datatypes."
      ]
    },
    {
      "cell_type": "code",
      "execution_count": null,
      "metadata": {
        "id": "UaXavL4DuhV4"
      },
      "outputs": [],
      "source": [
        "print(rides_analysis.dtypes)\n",
        "rides_analysis.head()"
      ]
    },
    {
      "cell_type": "markdown",
      "metadata": {
        "id": "2NmxHyoOvTmU"
      },
      "source": [
        "1.   datetime column is in the wrong format. convert it to datetime format. (Resolved)\n",
        "2.   hour and month columns should be categorical. (Resolved)"
      ]
    },
    {
      "cell_type": "code",
      "execution_count": null,
      "metadata": {
        "id": "Za5gT2BJutGu"
      },
      "outputs": [],
      "source": [
        "rides_analysis['datetime']=pd.to_datetime(rides_analysis.datetime,format='%Y-%m-%d %H:%M:%S')\n",
        "rides_analysis['hour']=rides_analysis.hour.astype('category')\n",
        "rides_analysis['month']=rides_analysis.month.astype('category')\n",
        "rides_analysis.dtypes"
      ]
    },
    {
      "cell_type": "markdown",
      "metadata": {
        "id": "iBXXLsWUySY-"
      },
      "source": [
        "## Create More Features."
      ]
    },
    {
      "cell_type": "markdown",
      "metadata": {
        "id": "y_kCmYEryeaG"
      },
      "source": [
        "1.   Extract the day of the week data from datetime.\n",
        "2.   Create POINT data from Longuitude and latitude columns."
      ]
    },
    {
      "cell_type": "code",
      "execution_count": null,
      "metadata": {
        "id": "NiYEiw5Sy7od"
      },
      "outputs": [],
      "source": [
        "rides_analysis['day_of_week']=[day.strftime('%A') for day in rides_analysis.datetime.to_list()]\n",
        "rides_analysis['day_of_week']=rides_analysis.day_of_week.astype('category')\n",
        "rides_analysis['location']=[shapely.Point(row.latitude,row.longitude) for index, row in rides_analysis.iterrows()]\n",
        "\n",
        "rides_analysis.head()"
      ]
    },
    {
      "cell_type": "markdown",
      "metadata": {
        "id": "gTkVABE41Kzx"
      },
      "source": [
        "# Exploratory Data Analysis"
      ]
    },
    {
      "cell_type": "code",
      "execution_count": null,
      "metadata": {
        "id": "zhx3w3KE1kaB"
      },
      "outputs": [],
      "source": [
        "columns=rides_analysis.columns.to_list()\n",
        "columns.remove('price')\n",
        "columns.append('price')\n",
        "rides_analysis=rides_analysis[columns]\n",
        "rides_analysis.head()"
      ]
    },
    {
      "cell_type": "code",
      "execution_count": null,
      "metadata": {
        "id": "HGGolqZcLHYU"
      },
      "outputs": [],
      "source": [
        "print(rides_analysis.timezone.unique())\n",
        "print(rides_analysis.surge_multiplier.unique())"
      ]
    },
    {
      "cell_type": "markdown",
      "source": [
        "Timezone and surge_multiplier both have only one unique value. Drop them both. (Resolved)"
      ],
      "metadata": {
        "id": "412qZVTREBFe"
      }
    },
    {
      "cell_type": "code",
      "source": [
        "rides_analysis=rides_analysis.drop(columns=['timezone','surge_multiplier'])"
      ],
      "metadata": {
        "id": "qWmCRdc0ENSs"
      },
      "execution_count": null,
      "outputs": []
    },
    {
      "cell_type": "markdown",
      "metadata": {
        "id": "XnSmyeG67QCs"
      },
      "source": [
        "## Checking for correlations in the datasets between distance and price\n"
      ]
    },
    {
      "cell_type": "code",
      "execution_count": null,
      "metadata": {
        "id": "rO5W0Imx-nqX"
      },
      "outputs": [],
      "source": [
        "sns.relplot(\n",
        "            x='distance',\n",
        "            y='price',\n",
        "            data=rides_analysis,\n",
        "            kind='scatter',\n",
        "            height=6,\n",
        "            aspect=10/6,\n",
        "            alpha=0.2\n",
        "            ).set(title='Scatter Plot Of Distance vs Price Split')\n",
        "\n",
        "print(f'The Pearson Correlation between the price and the distance travelled is {rides_analysis.price.corr(rides_analysis.distance)}')"
      ]
    },
    {
      "cell_type": "markdown",
      "metadata": {
        "id": "9C8Kg6ITV8bF"
      },
      "source": [
        "There is a weak correlation between distance and price.\n"
      ]
    },
    {
      "cell_type": "markdown",
      "metadata": {
        "id": "u8PbnZP-ovIf"
      },
      "source": [
        "## Checking for Busiest day"
      ]
    },
    {
      "cell_type": "code",
      "execution_count": null,
      "metadata": {
        "id": "5tWARpTiYZfr"
      },
      "outputs": [],
      "source": [
        "week=rides_analysis.value_counts('day_of_week')\n",
        "\n",
        "sns.catplot(x='day_of_week',\n",
        "            data=rides_analysis,\n",
        "            kind='count',\n",
        "            height=6,\n",
        "            aspect=10/6,\n",
        "            order=week.index).set(title='Count of Rides By Day of Week')"
      ]
    },
    {
      "cell_type": "markdown",
      "metadata": {
        "id": "VVFZftf4poDY"
      },
      "source": [
        "Monday and Tuesday have significantly more rides than other days"
      ]
    },
    {
      "cell_type": "markdown",
      "metadata": {
        "id": "jeqs8Z38p9zt"
      },
      "source": [
        "## Hour_of_day_analysis"
      ]
    },
    {
      "cell_type": "code",
      "execution_count": null,
      "metadata": {
        "id": "-lUZ2Zsjsr3_"
      },
      "outputs": [],
      "source": [
        "order=rides_analysis.value_counts('hour')\n",
        "sns.catplot(x='hour',\n",
        "            data=rides_analysis,\n",
        "            kind='count',\n",
        "            height=6,\n",
        "            aspect=10/6,\n",
        "            order=order.index\n",
        "            ).set(title='Distribution of rides during the day')"
      ]
    },
    {
      "cell_type": "markdown",
      "metadata": {
        "id": "kCkDykb0I-ty"
      },
      "source": [
        "Business is usually busiest at midnight. Typical work closing times like 2pm,4pm and 6pm also see significant traffic.      "
      ]
    },
    {
      "cell_type": "markdown",
      "metadata": {
        "id": "24LpasNvCSTs"
      },
      "source": [
        "## Checking For Busiest Month                                        "
      ]
    },
    {
      "cell_type": "code",
      "execution_count": null,
      "metadata": {
        "id": "YPgCWUVLCiCb"
      },
      "outputs": [],
      "source": [
        "order=rides_analysis.value_counts('month')\n",
        "sns.catplot(x='month',\n",
        "            data=rides_analysis,\n",
        "            kind='count',\n",
        "            height=6,\n",
        "            aspect=10/6,\n",
        "            order=order.index\n",
        "            ).set(title='Distribution of rides during by month')"
      ]
    },
    {
      "cell_type": "markdown",
      "metadata": {
        "id": "2I6DPNwdIR9s"
      },
      "source": [
        "December recorded significantly more rides than November. This could due to the holiday season."
      ]
    },
    {
      "cell_type": "markdown",
      "metadata": {
        "id": "DFLwgDzBs2PF"
      },
      "source": [
        "## Effect_of_temperature_and_apparent_temperature"
      ]
    },
    {
      "cell_type": "markdown",
      "metadata": {
        "id": "gdyBLyBmGRzP"
      },
      "source": [
        "To enable visualization, I'll bin the temperature colummns into categories."
      ]
    },
    {
      "cell_type": "code",
      "execution_count": null,
      "metadata": {
        "id": "cxwRUb4hw_uv"
      },
      "outputs": [],
      "source": [
        "rides_analysis['temperature_summary']=pd.cut(rides_analysis.temperature,bins=[-np.inf,20,30,37,49,np.inf],labels=['Cool','Warm','Hot','Very_Hot','Extremely_Hot'])\n",
        "rides_analysis['apparent_temperature_summary']=pd.cut(rides_analysis.apparentTemperature,bins=[-np.inf,20,30,37,49,np.inf],labels=['Cool','Warm','Hot','Very_Hot','Extremely_Hot'])"
      ]
    },
    {
      "cell_type": "code",
      "execution_count": null,
      "metadata": {
        "id": "oCf3oItoz4SA"
      },
      "outputs": [],
      "source": [
        "order=rides_analysis.value_counts('temperature_summary')\n",
        "sns.catplot(\n",
        "            x='temperature_summary',\n",
        "            data=rides_analysis,\n",
        "            kind='count',\n",
        "            height=6,\n",
        "            aspect=10/6,\n",
        "            order=order.index\n",
        "            ).set(title='Distribution of Rides Based on Temperature')"
      ]
    },
    {
      "cell_type": "code",
      "source": [
        "order=rides_analysis.value_counts('apparent_temperature_summary')\n",
        "sns.catplot(\n",
        "            x='apparent_temperature_summary',\n",
        "            data=rides_analysis,\n",
        "            kind='count',\n",
        "            height=6,\n",
        "            aspect=10/6,\n",
        "            order=order.index\n",
        "            ).set(title='Distribution of Rides Based on Apparent Temperature')"
      ],
      "metadata": {
        "id": "c5WhM4js5zFm"
      },
      "execution_count": null,
      "outputs": []
    },
    {
      "cell_type": "markdown",
      "metadata": {
        "id": "xO26dycEJvSL"
      },
      "source": [
        "Apparent temperature seems to have more effect on whether or not people book rides."
      ]
    },
    {
      "cell_type": "markdown",
      "metadata": {
        "id": "AxjViXlOtSlD"
      },
      "source": [
        "## Types_of_cab\n"
      ]
    },
    {
      "cell_type": "code",
      "execution_count": null,
      "metadata": {
        "id": "JNMe43lrSOIF"
      },
      "outputs": [],
      "source": [
        "rides_analysis.product_id.value_counts()"
      ]
    },
    {
      "cell_type": "code",
      "execution_count": null,
      "metadata": {
        "id": "TFg9xuH6kpal"
      },
      "outputs": [],
      "source": [
        "sns.catplot(\n",
        "            y='product_id',\n",
        "            kind='count',\n",
        "            data=rides_analysis,\n",
        "            height=6,\n",
        "            aspect=10/6\n",
        "            ).set(title='Distribution of Rides Based On Cab Package')\n",
        "plt.xticks(rotation=90);"
      ]
    },
    {
      "cell_type": "markdown",
      "metadata": {
        "id": "hcugONJVK1DO"
      },
      "source": [
        "No difference based on Cab Package       "
      ]
    },
    {
      "cell_type": "markdown",
      "metadata": {
        "id": "dm8A055ZLmnj"
      },
      "source": [
        "## Origin of Rides        "
      ]
    },
    {
      "cell_type": "code",
      "execution_count": null,
      "metadata": {
        "id": "oTOcmHfuQocZ"
      },
      "outputs": [],
      "source": [
        "origin = rides_analysis.location.value_counts()\n",
        "origin"
      ]
    },
    {
      "cell_type": "code",
      "execution_count": null,
      "metadata": {
        "id": "KOUddO1YLtgT"
      },
      "outputs": [],
      "source": [
        "new_york_center=[rides_analysis.iloc[0,18].x, rides_analysis.iloc[0,18].y]\n",
        "new_york=folium.Map(location=new_york_center,zoom_start=14)\n",
        "\n",
        "for index in origin.index:\n",
        "  location=[index.x,index.y]\n",
        "  icon=folium.Icon(color='red')\n",
        "  marker=folium.Marker(location=location,icon=icon)\n",
        "  marker.add_to(new_york)\n",
        "\n",
        "display(new_york)"
      ]
    },
    {
      "cell_type": "markdown",
      "metadata": {
        "id": "EIDcQc0lAQuO"
      },
      "source": [
        "There is a decent spread of pickup locations in the dataset.\n",
        "                                                           "
      ]
    },
    {
      "cell_type": "markdown",
      "metadata": {
        "id": "I75eHxoCdu9z"
      },
      "source": [
        "## Source/Destination"
      ]
    },
    {
      "cell_type": "code",
      "execution_count": null,
      "metadata": {
        "id": "5guW19rpd6Yo"
      },
      "outputs": [],
      "source": [
        "rides_analysis.source.value_counts()"
      ]
    },
    {
      "cell_type": "code",
      "execution_count": null,
      "metadata": {
        "id": "oV-hLvgPiEv4"
      },
      "outputs": [],
      "source": [
        "order=rides_analysis.value_counts('source')\n",
        "sns.catplot(\n",
        "            y='source',\n",
        "            data=rides_analysis,\n",
        "            kind='count',\n",
        "            height=6,\n",
        "            aspect=10/6,\n",
        "            order=order.index\n",
        "            ).set(title='Distribution of Rides Based on Source')"
      ]
    },
    {
      "cell_type": "code",
      "execution_count": null,
      "metadata": {
        "id": "POqscnG9fi5v"
      },
      "outputs": [],
      "source": [
        "rides_analysis.destination.value_counts()"
      ]
    },
    {
      "cell_type": "code",
      "execution_count": null,
      "metadata": {
        "id": "u0hRxEHcive-"
      },
      "outputs": [],
      "source": [
        "order=rides_analysis.value_counts('destination')\n",
        "sns.catplot(\n",
        "            y='destination',\n",
        "            data=rides_analysis,\n",
        "            kind='count',\n",
        "            height=6,\n",
        "            aspect=10/6,\n",
        "            order=order.index\n",
        "            ).set(title='Distribution of Rides Based on destination')"
      ]
    },
    {
      "cell_type": "markdown",
      "metadata": {
        "id": "ozBoSClxgoUf"
      },
      "source": [
        "The distribution of rides by the source differs from the distribution generated by the longitude and latitude data. The reason for this could be greater specificity with the POINT data."
      ]
    },
    {
      "cell_type": "markdown",
      "metadata": {
        "id": "KovkCrndfqXb"
      },
      "source": [
        "## Icon"
      ]
    },
    {
      "cell_type": "code",
      "execution_count": null,
      "metadata": {
        "id": "dwKLM7Zkfs51"
      },
      "outputs": [],
      "source": [
        "rides_analysis.icon.value_counts()"
      ]
    },
    {
      "cell_type": "code",
      "execution_count": null,
      "metadata": {
        "id": "IyFv6N4Ef8l_"
      },
      "outputs": [],
      "source": [
        "order=rides_analysis.value_counts('icon')\n",
        "sns.catplot(y='icon',\n",
        "            data=rides_analysis,\n",
        "            kind='count',\n",
        "            height=6,\n",
        "            aspect=10/6,\n",
        "            order=order.index\n",
        "            ).set(title='Distribution of rides during by icon')"
      ]
    },
    {
      "cell_type": "markdown",
      "source": [
        "This distribution could also be due to the specific weather conditions of the time period the data was collected."
      ],
      "metadata": {
        "id": "N8nTfR-lHHNM"
      }
    },
    {
      "cell_type": "markdown",
      "metadata": {
        "id": "ItjUFXLrhayz"
      },
      "source": [
        "## Long summary/Short summary"
      ]
    },
    {
      "cell_type": "code",
      "execution_count": null,
      "metadata": {
        "id": "VFRgRsvthkRR"
      },
      "outputs": [],
      "source": [
        "rides_analysis.short_summary.value_counts()"
      ]
    },
    {
      "cell_type": "code",
      "execution_count": null,
      "metadata": {
        "id": "bft5ulHWjb8f"
      },
      "outputs": [],
      "source": [
        "order=rides_analysis.value_counts('short_summary')\n",
        "sns.catplot(\n",
        "            y='short_summary',\n",
        "            data=rides_analysis,\n",
        "            kind='count',\n",
        "            height=6,\n",
        "            aspect=10/6,\n",
        "            order=order.index\n",
        "            ).set(title='Distribution of Rides Based on short_summary')"
      ]
    },
    {
      "cell_type": "code",
      "execution_count": null,
      "metadata": {
        "id": "TRZbNMBxh0Tm"
      },
      "outputs": [],
      "source": [
        "rides_analysis.long_summary.value_counts()"
      ]
    },
    {
      "cell_type": "code",
      "execution_count": null,
      "metadata": {
        "id": "IwFW5vQKjmSf"
      },
      "outputs": [],
      "source": [
        "order=rides_analysis.value_counts('long_summary')\n",
        "sns.catplot(\n",
        "            y='long_summary',\n",
        "            data=rides_analysis,\n",
        "            kind='count',\n",
        "            height=6,\n",
        "            aspect=10/6,\n",
        "            order=order.index\n",
        "            ).set(title='Distribution of Rides Based on long_summary')"
      ]
    },
    {
      "cell_type": "markdown",
      "source": [
        "The description of the weather by the short summary, long summary and icon are very similar and the distributions are similar too."
      ],
      "metadata": {
        "id": "Df_xfbobHunc"
      }
    },
    {
      "cell_type": "markdown",
      "metadata": {
        "id": "0gnJK-Zojv7b"
      },
      "source": [
        "# Check for colinearity."
      ]
    },
    {
      "cell_type": "markdown",
      "source": [
        "Null Hypothesis: There is no significant association between the categorical variables.\n",
        "\n",
        "Alternative Hypothesis: There is a significant association between the categorical variables."
      ],
      "metadata": {
        "id": "wTpoONYtMVJ2"
      }
    },
    {
      "cell_type": "code",
      "source": [
        "contingency_table=pd.crosstab([rides_analysis.short_summary,rides_analysis.long_summary],rides_analysis.icon)\n",
        "contingency_table"
      ],
      "metadata": {
        "id": "_DZcVxk-MUV7"
      },
      "execution_count": null,
      "outputs": []
    },
    {
      "cell_type": "code",
      "source": [
        "chi2, p_value, dof, expected = chi2_contingency(contingency_table)\n",
        "\n",
        "print(\"Chi-squared test statistic:\", chi2)\n",
        "print(\"P-value:\", p_value)\n",
        "print(\"Degrees of Freedom:\", dof)\n",
        "print(\"Expected frequencies:\")"
      ],
      "metadata": {
        "id": "ny1j_ACfPxhq"
      },
      "execution_count": null,
      "outputs": []
    },
    {
      "cell_type": "code",
      "source": [
        "pd.DataFrame(expected, index=contingency_table.index, columns=contingency_table.columns)"
      ],
      "metadata": {
        "id": "PYTGUku4QGdR"
      },
      "execution_count": null,
      "outputs": []
    },
    {
      "cell_type": "markdown",
      "source": [
        "With a p-value of 0.0, there is enough evidence to reject the null hypothesis. ie, the three variables are multicolinear."
      ],
      "metadata": {
        "id": "nneYtK_lSLK-"
      }
    },
    {
      "cell_type": "markdown",
      "metadata": {
        "id": "IGqOH-uwAdLl"
      },
      "source": [
        "# Features Relationship With The Target Variable                                                                            "
      ]
    },
    {
      "cell_type": "code",
      "execution_count": null,
      "metadata": {
        "id": "9rTxNB4GAb7M"
      },
      "outputs": [],
      "source": [
        "rides_analysis.columns"
      ]
    },
    {
      "cell_type": "code",
      "execution_count": null,
      "metadata": {
        "id": "Wab80AlGBnvQ"
      },
      "outputs": [],
      "source": [
        "rides_analysis=rides_analysis.drop(columns=['datetime', 'timezone'])"
      ]
    },
    {
      "cell_type": "markdown",
      "metadata": {
        "id": "hppR3yXBD-5x"
      },
      "source": [
        "## Relationship between 'month' and 'price'"
      ]
    },
    {
      "cell_type": "code",
      "execution_count": null,
      "metadata": {
        "id": "QMgAKWimTtPz"
      },
      "outputs": [],
      "source": [
        "rides_analysis.groupby('month').mean(numeric_only=True)['price']"
      ]
    },
    {
      "cell_type": "code",
      "execution_count": null,
      "metadata": {
        "id": "B2wy0yAhB2oz"
      },
      "outputs": [],
      "source": [
        "sns.catplot(\n",
        "    kind='box',\n",
        "    data=rides_analysis,\n",
        "    x='month',\n",
        "    y='price'\n",
        ").set(title='Distribution of Prices By Month')"
      ]
    },
    {
      "cell_type": "markdown",
      "metadata": {
        "id": "pXlv3NDVG3w7"
      },
      "source": [
        "No visible difference"
      ]
    },
    {
      "cell_type": "markdown",
      "metadata": {
        "id": "_ZKtfX4XED_3"
      },
      "source": [
        "##  Relationship between 'hour' and 'price'"
      ]
    },
    {
      "cell_type": "code",
      "execution_count": null,
      "metadata": {
        "id": "dxI8RYwGURTy"
      },
      "outputs": [],
      "source": [
        "rides_analysis.groupby('hour').mean(numeric_only=True)['price'].sort_values(ascending=False)"
      ]
    },
    {
      "cell_type": "code",
      "execution_count": null,
      "metadata": {
        "id": "grs_SuZgEH8q"
      },
      "outputs": [],
      "source": [
        "hours=rides_analysis.groupby('hour')['price'].mean().sort_values(ascending=False)\n",
        "sns.catplot(\n",
        "    kind='box',\n",
        "    x='hour',\n",
        "    y='price',\n",
        "    data=rides_analysis,\n",
        "    order=hours.index,\n",
        "    height=6,\n",
        "    aspect=10/6\n",
        ").set(title=\"Distribution of Prices by hour\")\n"
      ]
    },
    {
      "cell_type": "markdown",
      "metadata": {
        "id": "bVnsYPB_Hhmk"
      },
      "source": [
        "No visible difference"
      ]
    },
    {
      "cell_type": "markdown",
      "metadata": {
        "id": "z-trhxlbG8hT"
      },
      "source": [
        "##  Relationship between 'day_of_week' and 'price'"
      ]
    },
    {
      "cell_type": "code",
      "execution_count": null,
      "metadata": {
        "id": "R90733orV1BP"
      },
      "outputs": [],
      "source": [
        "rides_analysis.groupby('day_of_week').mean(numeric_only=True)['price'].sort_values(ascending=False)"
      ]
    },
    {
      "cell_type": "code",
      "execution_count": null,
      "metadata": {
        "id": "XHt8yjaGHCeZ"
      },
      "outputs": [],
      "source": [
        "hours=rides_analysis.groupby('day_of_week')['price'].mean().sort_values(ascending=False)\n",
        "sns.catplot(\n",
        "    kind='box',\n",
        "    x='day_of_week',\n",
        "    y='price',\n",
        "    data=rides_analysis,\n",
        "    order=hours.index,\n",
        "    height=6,\n",
        "    aspect=10/6\n",
        ").set(title=\"Distribution of Prices by day_of_week\")\n"
      ]
    },
    {
      "cell_type": "markdown",
      "metadata": {
        "id": "ESciGxeuIWPR"
      },
      "source": [
        "No visible difference"
      ]
    },
    {
      "cell_type": "markdown",
      "metadata": {
        "id": "D0Tq8gSuIZ15"
      },
      "source": [
        "##  Relationship between 'product_id' and 'price'"
      ]
    },
    {
      "cell_type": "code",
      "execution_count": null,
      "metadata": {
        "id": "gNf5btv8WFtG"
      },
      "outputs": [],
      "source": [
        "rides_analysis.groupby('product_id').median(numeric_only=True)['price'].sort_values(ascending=False)"
      ]
    },
    {
      "cell_type": "code",
      "execution_count": null,
      "metadata": {
        "id": "lxoHP_1BIZU2"
      },
      "outputs": [],
      "source": [
        "hours=rides_analysis.groupby('product_id')['price'].mean().sort_values(ascending=False)\n",
        "sns.catplot(\n",
        "    kind='box',\n",
        "    y='product_id',\n",
        "    x='price',\n",
        "    data=rides_analysis,\n",
        "    order=hours.index,\n",
        "    height=6,\n",
        "    aspect=10/6\n",
        ").set(title=\"Distribution of Prices by product_id\")\n",
        "\n",
        "plt.xticks(rotation=90);"
      ]
    },
    {
      "cell_type": "markdown",
      "metadata": {
        "id": "BhSLy60oI6iZ"
      },
      "source": [
        "The distribution of prices is greatly influenced by the cab_type (product_id) being used. This suggests that different cab_types have different base costs or rates."
      ]
    },
    {
      "cell_type": "markdown",
      "metadata": {
        "id": "QRHOMl0DJU24"
      },
      "source": [
        "##  Relationship between 'temperature'/'apparentTemperature' and 'price'"
      ]
    },
    {
      "cell_type": "code",
      "execution_count": null,
      "metadata": {
        "id": "S1TZE6qFWkUX"
      },
      "outputs": [],
      "source": [
        "print(f\"The correlation between the temperature and the price is {rides_analysis.temperature.corr(rides_analysis.price)}.\")\n",
        "print(f\"The correlation between the apparent_temperature and the price is {rides_analysis.apparentTemperature.corr(rides_analysis.price)}.\")"
      ]
    },
    {
      "cell_type": "code",
      "execution_count": null,
      "metadata": {
        "id": "Y0eg6_WqJn9V"
      },
      "outputs": [],
      "source": [
        "sns.relplot(\n",
        "    kind='scatter',\n",
        "    data=rides_analysis,\n",
        "    x='price',\n",
        "    y='temperature',\n",
        "    height=6,\n",
        "    aspect=10/6,\n",
        "    alpha=0.2\n",
        ").set(title='scatterplot of Temperature vs Price');"
      ]
    },
    {
      "cell_type": "code",
      "execution_count": null,
      "metadata": {
        "id": "UiTiqRlcKOLG"
      },
      "outputs": [],
      "source": [
        "sns.relplot(\n",
        "    kind='scatter',\n",
        "    data=rides_analysis,\n",
        "    x='price',\n",
        "    y='apparentTemperature',\n",
        "    height=6,\n",
        "    aspect=10/6,\n",
        "    alpha=0.2\n",
        ").set(title='scatterplot of Apparent_Temperature vs Price');"
      ]
    },
    {
      "cell_type": "markdown",
      "metadata": {
        "id": "80zTbolzKaS-"
      },
      "source": [
        "No linear relationship exists on either features. Analyzing the binned categorical feature created earlier might prove more useful (temperature_summary)."
      ]
    },
    {
      "cell_type": "markdown",
      "metadata": {
        "id": "N7VQVWNfKzY1"
      },
      "source": [
        "##  Relationship between 'temperature_summary'/'apparent_temperature_summary' and 'price'"
      ]
    },
    {
      "cell_type": "code",
      "execution_count": null,
      "metadata": {
        "id": "Zx03CenaXW_l"
      },
      "outputs": [],
      "source": [
        "rides_analysis.groupby('temperature_summary').mean(numeric_only=True)['price'].sort_values(ascending=False)"
      ]
    },
    {
      "cell_type": "code",
      "execution_count": null,
      "metadata": {
        "id": "kN_1ltC0K78L"
      },
      "outputs": [],
      "source": [
        "hours=rides_analysis.groupby('temperature_summary')['price'].mean().sort_values(ascending=False)\n",
        "sns.catplot(\n",
        "    kind='box',\n",
        "    x='temperature_summary',\n",
        "    y='price',\n",
        "    data=rides_analysis,\n",
        "    order=hours.index,\n",
        "    height=6,\n",
        "    aspect=10/6\n",
        ").set(title=\"Distribution of Prices by temperature_summary\")\n"
      ]
    },
    {
      "cell_type": "code",
      "execution_count": null,
      "metadata": {
        "id": "b18qon35XxbN"
      },
      "outputs": [],
      "source": [
        "rides_analysis.groupby('apparent_temperature_summary').mean(numeric_only=True)['price'].sort_values(ascending=False)"
      ]
    },
    {
      "cell_type": "code",
      "execution_count": null,
      "metadata": {
        "id": "L88GRUa_LD8l"
      },
      "outputs": [],
      "source": [
        "hours=rides_analysis.groupby('apparent_temperature_summary')['price'].mean().sort_values(ascending=False)\n",
        "sns.catplot(\n",
        "    kind='box',\n",
        "    x='apparent_temperature_summary',\n",
        "    y='price',\n",
        "    data=rides_analysis,\n",
        "    order=hours.index,\n",
        "    height=6,\n",
        "    aspect=10/6\n",
        ").set(title=\"Distribution of Prices by apparent_temperature_summary\")\n"
      ]
    },
    {
      "cell_type": "markdown",
      "metadata": {
        "id": "vUxXZ61TLkIW"
      },
      "source": [
        "Slight differences between the two groups. Similarities between the two groups might suggest colinearity. Both distributions show that there is a slight increase in average price on hotter days. This might suggest that people simply book longer distance rides on hotter days.                        "
      ]
    },
    {
      "cell_type": "markdown",
      "metadata": {
        "id": "ts6ypwyiZAAx"
      },
      "source": [
        "## Relationship Between Distance and Apparent Temperature Summary."
      ]
    },
    {
      "cell_type": "code",
      "execution_count": null,
      "metadata": {
        "id": "45lCp_cVZbWi"
      },
      "outputs": [],
      "source": [
        "rides_analysis.groupby('apparent_temperature_summary').mean(numeric_only=True)['distance'].sort_values(ascending=False)"
      ]
    },
    {
      "cell_type": "code",
      "execution_count": null,
      "metadata": {
        "id": "cng6fu38ZK6l"
      },
      "outputs": [],
      "source": [
        "hours=rides_analysis.groupby('apparent_temperature_summary')['distance'].mean().sort_values(ascending=False)\n",
        "sns.catplot(\n",
        "    kind='box',\n",
        "    x='apparent_temperature_summary',\n",
        "    y='distance',\n",
        "    data=rides_analysis,\n",
        "    order=hours.index,\n",
        "    height=6,\n",
        "    aspect=10/6\n",
        ").set(title=\"Distribution of distances by apparent_temperature_summary\")"
      ]
    },
    {
      "cell_type": "markdown",
      "metadata": {
        "id": "k2qCDH3Bj9r5"
      },
      "source": [
        "## Relationship between 'source'/'destination' and 'price'"
      ]
    },
    {
      "cell_type": "code",
      "execution_count": null,
      "metadata": {
        "id": "bqyKMUY9kJlq"
      },
      "outputs": [],
      "source": [
        "order=rides_analysis.groupby('source').mean(numeric_only=True)['price'].sort_values(ascending=False)\n",
        "order"
      ]
    },
    {
      "cell_type": "code",
      "execution_count": null,
      "metadata": {
        "id": "gJHZbN7GkS2i"
      },
      "outputs": [],
      "source": [
        "sns.catplot(\n",
        "    kind='box',\n",
        "    y='source',\n",
        "    x='price',\n",
        "    data=rides_analysis,\n",
        "    order=order.index,\n",
        "    height=6,\n",
        "    aspect=10/6\n",
        ").set(title=\"Distribution of prices by source\")"
      ]
    },
    {
      "cell_type": "code",
      "execution_count": null,
      "metadata": {
        "id": "nBL5g4RKlL8w"
      },
      "outputs": [],
      "source": [
        "order=rides_analysis.groupby('destination').mean(numeric_only=True)['price'].sort_values(ascending=False)\n",
        "order"
      ]
    },
    {
      "cell_type": "code",
      "execution_count": null,
      "metadata": {
        "id": "kqsBHe2JlZiY"
      },
      "outputs": [],
      "source": [
        "sns.catplot(\n",
        "    kind='box',\n",
        "    y='destination',\n",
        "    x='price',\n",
        "    data=rides_analysis,\n",
        "    order=order.index,\n",
        "    height=6,\n",
        "    aspect=10/6\n",
        ").set(title=\"Distribution of prices by destination\")"
      ]
    },
    {
      "cell_type": "markdown",
      "metadata": {
        "id": "bdCNNggRlfOj"
      },
      "source": [
        "## **Check_for_collinearity**"
      ]
    },
    {
      "cell_type": "code",
      "source": [],
      "metadata": {
        "id": "CpFSZpl3VBfV"
      },
      "execution_count": null,
      "outputs": []
    },
    {
      "cell_type": "markdown",
      "metadata": {
        "id": "jimoPdZnli6U"
      },
      "source": [
        "## Relationship between 'short_summary'/'long_summary' and 'price'"
      ]
    },
    {
      "cell_type": "code",
      "execution_count": null,
      "metadata": {
        "id": "as7VRl_dlrfC"
      },
      "outputs": [],
      "source": [
        "order=rides_analysis.groupby('short_summary').mean(numeric_only=True)['price'].sort_values(ascending=False)\n",
        "order"
      ]
    },
    {
      "cell_type": "code",
      "execution_count": null,
      "metadata": {
        "id": "0_IEpZBklxkh"
      },
      "outputs": [],
      "source": []
    },
    {
      "cell_type": "markdown",
      "metadata": {
        "id": "Wu_n8oSt8NoU"
      },
      "source": [
        "# Data Preprocessing"
      ]
    },
    {
      "cell_type": "markdown",
      "metadata": {
        "id": "OIx3dNd98Ujn"
      },
      "source": [
        "This process involves feature selection and engineering.\n"
      ]
    },
    {
      "cell_type": "markdown",
      "metadata": {
        "id": "f6twHJ5s8-i7"
      },
      "source": [
        "From the EDA performed,                        "
      ]
    },
    {
      "cell_type": "markdown",
      "metadata": {
        "id": "Hw5P5qP09tQh"
      },
      "source": [
        "# Finally,_build_models"
      ]
    },
    {
      "cell_type": "markdown",
      "metadata": {
        "id": "wg9c0df-Rnvf"
      },
      "source": [
        "# Notes"
      ]
    },
    {
      "cell_type": "markdown",
      "metadata": {
        "id": "tasNymv6RrZG"
      },
      "source": [
        "1. There is a weak correlation between distance and price.\n",
        "2. Monday and Tuesday have significantly more rides than other days\n",
        "3. Business is usually busiest at midnight. Typical work closing times like 2pm,4pm and 6pm also see significant traffic.      \n",
        "4. December recorded significantly more rides than November.  \n",
        "5. Apparent temperature seems to have more effect on whether or not people book rides.\n",
        "6. No difference based on Cab Package       \n",
        "7. There is a decent spread of pickup locations in the dataset.\n",
        "8. The distribution of prices is greatly influenced by the cab_type (product_id) being used. This suggests that different cab_types have different base costs or rates.\n",
        "\n",
        "Temperature summary and apparent temperature summary\n",
        "1. Slight differences between the two groups. Similarities between the two groups might suggest colinearity.\n",
        "2. Both distributions show that there is a slight increase in average price on hotter days.    "
      ]
    }
  ],
  "metadata": {
    "colab": {
      "provenance": []
    },
    "kernelspec": {
      "display_name": "Python 3",
      "name": "python3"
    },
    "language_info": {
      "name": "python"
    }
  },
  "nbformat": 4,
  "nbformat_minor": 0
}